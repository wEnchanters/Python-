{
 "cells": [
  {
   "cell_type": "code",
   "execution_count": null,
   "id": "203f5783-212d-44c2-b06c-6246087698e3",
   "metadata": {},
   "outputs": [],
   "source": [
    "g_num = 100\n",
    "def show():\n",
    "    print('hhhh')\n",
    "class Student(object):\n",
    "    def __int_(self, name, age):\n",
    "        self.name = name\n",
    "        self.age = age\n",
    "    def show_msg(self):\n",
    "        print(self.name, self.age)\n",
    "if __name__ == '__main__':\n",
    "    show()"
   ]
  }
 ],
 "metadata": {
  "kernelspec": {
   "display_name": "Python 3 (ipykernel)",
   "language": "python",
   "name": "python3"
  },
  "language_info": {
   "codemirror_mode": {
    "name": "ipython",
    "version": 3
   },
   "file_extension": ".py",
   "mimetype": "text/x-python",
   "name": "python",
   "nbconvert_exporter": "python",
   "pygments_lexer": "ipython3",
   "version": "3.12.11"
  }
 },
 "nbformat": 4,
 "nbformat_minor": 5
}
