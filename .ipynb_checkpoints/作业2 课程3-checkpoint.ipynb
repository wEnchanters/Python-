{
 "cells": [
  {
   "cell_type": "code",
   "execution_count": 16,
   "id": "9d9703cc-4609-4229-8968-ccf5f74f1758",
   "metadata": {},
   "outputs": [
    {
     "name": "stdout",
     "output_type": "stream",
     "text": [
      "[5, 3, 3, 2, 1]\n"
     ]
    }
   ],
   "source": [
    "#定义列表 降序排序\n",
    "my_list = [3,2,5,1,3]\n",
    "my_list.sort(reverse=True)\n",
    "print(my_list)"
   ]
  },
  {
   "cell_type": "code",
   "execution_count": 23,
   "id": "2be04ea7-d2db-49b3-b83f-82a570a7d54c",
   "metadata": {},
   "outputs": [
    {
     "name": "stdout",
     "output_type": "stream",
     "text": [
      "False\n",
      "False\n"
     ]
    }
   ],
   "source": [
    "def old(num):\n",
    "    return num % 2 == 0\n",
    "a = 1\n",
    "print((lambda a : a % 2 == 0)(a))\n",
    "print(old(a))"
   ]
  },
  {
   "cell_type": "code",
   "execution_count": 58,
   "id": "1b2d44b5-296e-48a2-9d5b-014911939f8b",
   "metadata": {},
   "outputs": [
    {
     "name": "stdout",
     "output_type": "stream",
     "text": [
      "[{'name': 'ls', 'age': 19}, {'name': 'zs', 'age': 20}]\n"
     ]
    }
   ],
   "source": [
    "\n",
    "my_dict = [{'name':'zs','age':20},{'name':'ls','age':19}]\n",
    "def com(elem):\n",
    "    print(elem)\n",
    "    return elem['age']\n",
    "my_dict.sort(key = (lambda a:a['age']))\n",
    "\n",
    "# (lambda a,b : a['age'] - b['age'])(my_dict)\n",
    "print(my_dict)\n"
   ]
  },
  {
   "cell_type": "code",
   "execution_count": 69,
   "id": "136ef889-5dc6-436a-80b5-1125f9c93489",
   "metadata": {},
   "outputs": [],
   "source": [
    "with open('C:/迅雷下载/预科Python 【八斗学院】/02-Python/作业/读.txt', 'r') as f:\n",
    "    line = f.readlines()\n",
    "    with open('C:/迅雷下载/预科Python 【八斗学院】/02-Python/作业/写.txt', 'w') as w:\n",
    "        for l in line:\n",
    "            w.write(l)"
   ]
  },
  {
   "cell_type": "code",
   "execution_count": 2,
   "id": "c7e8993a-e3fa-4a73-8fc8-cbc7c0da6451",
   "metadata": {},
   "outputs": [
    {
     "name": "stdout",
     "output_type": "stream",
     "text": [
      "努力学习爵迹图书\n",
      "郭敬明\n",
      "书籍名称：爵迹，价格：39，作者:郭敬明\n"
     ]
    }
   ],
   "source": [
    "# 1）__init__中，需要默认书籍名称，价格，作者 例如name = \"爵迹\",price=\"39\",author=\"郭敬明\" \n",
    "# 2）定义实例方法you()，使用输出以下字样%s为书籍名称 \"努力学习%s图书\" \n",
    "# 3）定义实例方法info()：打印书的详细信息 \"书籍名称：%s，价格：%s，作者:%s\" \n",
    "# 4）定义一个子类，继承Book类 类名：BookZi,  BookZi中不定义任何函数, pass \n",
    "# 5）定义父类创建对象 并调用you()，__init__()方法 \n",
    "# 6）定义子类创建对象 并调用info方法\n",
    "class Book(object):\n",
    "    def __init__(self):\n",
    "        self.name = \"爵迹\"\n",
    "        self.price = \"39\"\n",
    "        self.author = \"郭敬明\"\n",
    "        self.__country = \"China\"\n",
    "    def you(self):\n",
    "        print((\"努力学习%s图书\" %self.name))\n",
    "    def info(self):\n",
    "        print((\"书籍名称：%s，价格：%s，作者:%s\" %(self.name, self.price, self.author)))\n",
    "class BookZi(Book):\n",
    "    pass\n",
    "\n",
    "book = Book();\n",
    "book.you()\n",
    "bookzi =BookZi();\n",
    "print(bookzi.author)\n",
    "bookzi.info()\n",
    "# book.__init__()"
   ]
  },
  {
   "cell_type": "code",
   "execution_count": 5,
   "id": "c0b3d1c6-0b43-4e04-b0a0-139fad4cc532",
   "metadata": {},
   "outputs": [],
   "source": [
    "import time\n",
    "# help('modules')"
   ]
  },
  {
   "cell_type": "code",
   "execution_count": 4,
   "id": "6d34b009-bdbe-4a3c-a700-42085c03a0a1",
   "metadata": {},
   "outputs": [
    {
     "name": "stdout",
     "output_type": "stream",
     "text": [
      "111\n",
      "LQ 313\n"
     ]
    }
   ],
   "source": [
    "import first_module\n",
    "student = first_module.Student('LQ', 313)\n",
    "student.show_msg()"
   ]
  },
  {
   "cell_type": "code",
   "execution_count": 8,
   "id": "1ce096e6-8655-49bb-9a19-6d0fde33c7c3",
   "metadata": {},
   "outputs": [
    {
     "name": "stdout",
     "output_type": "stream",
     "text": [
      "111\n",
      "SBLQ 8\n"
     ]
    }
   ],
   "source": [
    "from first_module import Student\n",
    "from first_module import *\n",
    "from first_module import show as show_msg\n",
    "stu = Student('SBLQ', 8)\n",
    "stu.show_msg()"
   ]
  },
  {
   "cell_type": "code",
   "execution_count": 10,
   "id": "781451ec-5551-4676-9c31-2635eb6cf3fe",
   "metadata": {},
   "outputs": [],
   "source": [
    "# import this"
   ]
  }
 ],
 "metadata": {
  "kernelspec": {
   "display_name": "Python 3 (ipykernel)",
   "language": "python",
   "name": "python3"
  },
  "language_info": {
   "codemirror_mode": {
    "name": "ipython",
    "version": 3
   },
   "file_extension": ".py",
   "mimetype": "text/x-python",
   "name": "python",
   "nbconvert_exporter": "python",
   "pygments_lexer": "ipython3",
   "version": "3.12.11"
  }
 },
 "nbformat": 4,
 "nbformat_minor": 5
}
