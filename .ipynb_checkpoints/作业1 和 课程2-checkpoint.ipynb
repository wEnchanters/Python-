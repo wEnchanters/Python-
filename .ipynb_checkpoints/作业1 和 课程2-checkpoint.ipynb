{
 "cells": [
  {
   "cell_type": "code",
   "execution_count": 5,
   "id": "f2f32a5d-c1e9-4c9c-bea7-c4078179bd5c",
   "metadata": {},
   "outputs": [
    {
     "name": "stdin",
     "output_type": "stream",
     "text": [
      "输入数字1 1\n"
     ]
    },
    {
     "name": "stdout",
     "output_type": "stream",
     "text": [
      "<class 'str'>\n"
     ]
    },
    {
     "name": "stdin",
     "output_type": "stream",
     "text": [
      "输入数字2 2\n"
     ]
    },
    {
     "name": "stdout",
     "output_type": "stream",
     "text": [
      "3\n"
     ]
    }
   ],
   "source": [
    "a = input(\"输入数字1\")\n",
    "print(type(a))\n",
    "b = input(\"输入数字2\")\n",
    "print(int(a) + int(b))"
   ]
  },
  {
   "cell_type": "code",
   "execution_count": 12,
   "id": "1cb0b6c7-a8c4-46fe-84e2-afc7a87ce10f",
   "metadata": {},
   "outputs": [
    {
     "name": "stdout",
     "output_type": "stream",
     "text": [
      "5\n",
      "10\n"
     ]
    }
   ],
   "source": [
    "import random\n",
    "a = random.randint(1,5)\n",
    "print(a)\n",
    "a = random.randint(10,100)\n",
    "print(a)"
   ]
  },
  {
   "cell_type": "code",
   "execution_count": 80,
   "id": "e3e6cce5-734d-4de0-aa8e-d6919c2a5e14",
   "metadata": {},
   "outputs": [
    {
     "name": "stdout",
     "output_type": "stream",
     "text": [
      "1 * 1 = 1 \n",
      "2 * 1 = 2 2 * 2 = 4 \n",
      "3 * 1 = 3 3 * 2 = 6 3 * 3 = 9 \n",
      "4 * 1 = 4 4 * 2 = 8 4 * 3 = 12 4 * 4 = 16 \n",
      "5 * 1 = 5 5 * 2 = 10 5 * 3 = 15 5 * 4 = 20 5 * 5 = 25 \n",
      "6 * 1 = 6 6 * 2 = 12 6 * 3 = 18 6 * 4 = 24 6 * 5 = 30 6 * 6 = 36 \n",
      "7 * 1 = 7 7 * 2 = 14 7 * 3 = 21 7 * 4 = 28 7 * 5 = 35 7 * 6 = 42 7 * 7 = 49 \n",
      "8 * 1 = 8 8 * 2 = 16 8 * 3 = 24 8 * 4 = 32 8 * 5 = 40 8 * 6 = 48 8 * 7 = 56 8 * 8 = 64 \n",
      "9 * 1 = 9 9 * 2 = 18 9 * 3 = 27 9 * 4 = 36 9 * 5 = 45 9 * 6 = 54 9 * 7 = 63 9 * 8 = 72 9 * 9 = 81 \n"
     ]
    }
   ],
   "source": [
    "for i in range(1, 10):\n",
    "    for j in range(1, i + 1):\n",
    "        print('%d * %d = %d ' %(i,j,i * j), end='')\n",
    "    print()\n",
    "          "
   ]
  },
  {
   "cell_type": "code",
   "execution_count": 94,
   "id": "8a9a9512-2039-4a6a-b57e-e6701f3ae47b",
   "metadata": {},
   "outputs": [
    {
     "name": "stdout",
     "output_type": "stream",
     "text": [
      "{'name': 'lq', 'age': 32}\n",
      "lq\n",
      "True\n",
      "dict_values(['lq', 32])\n",
      "dict_keys(['name', 'age'])\n",
      "{'name': 'lq', 'age': 17}\n",
      "{'age': 17}\n",
      "{}\n"
     ]
    }
   ],
   "source": [
    "my_dict = {'name': 'lq', 'age':32}\n",
    "print(my_dict)\n",
    "print(my_dict.get('name'))\n",
    "print('name' in my_dict)\n",
    "print(my_dict.values())\n",
    "print(my_dict.keys())\n",
    "my_dict['age'] = 17\n",
    "print(my_dict)\n",
    "my_dict.pop('name')\n",
    "print(my_dict)\n",
    "del my_dict['age']\n",
    "print(my_dict)\n"
   ]
  },
  {
   "cell_type": "code",
   "execution_count": 100,
   "id": "f4b0d22b-7fb9-4ca0-8d19-fa72110fccbc",
   "metadata": {},
   "outputs": [
    {
     "name": "stdout",
     "output_type": "stream",
     "text": [
      "name lq\n",
      "age 32\n"
     ]
    }
   ],
   "source": [
    "my_dict = {'name': 'lq', 'age':32}\n",
    "for key, value in my_dict.items():\n",
    "    print(key, value)"
   ]
  },
  {
   "cell_type": "code",
   "execution_count": 105,
   "id": "43d2a1e1-3c92-4f80-b500-e64d7eb0b50c",
   "metadata": {},
   "outputs": [
    {
     "name": "stdout",
     "output_type": "stream",
     "text": [
      "<class 'set'>\n",
      "0 1\n",
      "1 hhh\n",
      "2 4\n",
      "3 abc\n"
     ]
    }
   ],
   "source": [
    "my_set = {1, 4, 'abc', 'hhh'}\n",
    "print(type(my_set))\n",
    "for index, value in enumerate(my_set):\n",
    "    print(index, value)\n"
   ]
  },
  {
   "cell_type": "code",
   "execution_count": 110,
   "id": "4721068f-b104-4b13-94ec-7f3cfb4a4a56",
   "metadata": {},
   "outputs": [],
   "source": [
    "def show(): \n",
    "    pass\n",
    "show()"
   ]
  },
  {
   "cell_type": "code",
   "execution_count": 121,
   "id": "a5013903-8dab-48bf-8f79-c8e4332c6153",
   "metadata": {},
   "outputs": [
    {
     "name": "stdout",
     "output_type": "stream",
     "text": [
      "Help on function show in module __main__:\n",
      "\n",
      "show(num1)\n",
      "    WTF\n",
      "\n"
     ]
    }
   ],
   "source": [
    "def show(num1):\n",
    "    '''\n",
    "    WTF\n",
    "    '''\n",
    "    return '1'\n",
    "help(show)\n"
   ]
  },
  {
   "cell_type": "code",
   "execution_count": 128,
   "id": "e3cee9fb-6819-4602-a2f0-bd3e8901e264",
   "metadata": {},
   "outputs": [
    {
     "name": "stdout",
     "output_type": "stream",
     "text": [
      "5\n"
     ]
    }
   ],
   "source": [
    "def sum_num(num1 = 4, num2 = 3):\n",
    "    return num1 + num2\n",
    "print(sum_num(2))"
   ]
  },
  {
   "cell_type": "code",
   "execution_count": 139,
   "id": "88be437b-e915-4b49-97e8-7c2144364854",
   "metadata": {},
   "outputs": [
    {
     "name": "stdout",
     "output_type": "stream",
     "text": [
      "(1, 2, 3, 4) <class 'tuple'>\n",
      "10\n"
     ]
    }
   ],
   "source": [
    "def sum_nums(*ages):\n",
    "    print(ages, type(ages))\n",
    "    result = 0\n",
    "    for value in ages:\n",
    "        result += value\n",
    "    return result\n",
    "print(sum_nums(1,2,3,4))"
   ]
  },
  {
   "cell_type": "code",
   "execution_count": 152,
   "id": "3411ff2a-65fe-420a-938a-3c4d5d8f9493",
   "metadata": {},
   "outputs": [
    {
     "name": "stdout",
     "output_type": "stream",
     "text": [
      "{'nums1': 1, 'nums2': 2} <class 'dict'>\n",
      "{'nums1': 1, 'nums2': 2}\n"
     ]
    }
   ],
   "source": [
    "def sum_nums(**kargs):\n",
    "    print(kargs, type(kargs))\n",
    "    # for key,value in kargs.items():\n",
    "    #     print(key, value)\n",
    "    show(**kargs)\n",
    "def show(**karge):\n",
    "    print(karge)\n",
    "\n",
    "sum_nums(nums1 = 1, nums2 = 2)"
   ]
  },
  {
   "cell_type": "code",
   "execution_count": 157,
   "id": "e6a961ba-a967-447e-911b-3b67e6df6000",
   "metadata": {},
   "outputs": [
    {
     "name": "stdout",
     "output_type": "stream",
     "text": [
      "6\n"
     ]
    }
   ],
   "source": [
    "# 递归\n",
    "def show(num):\n",
    "    if num == 1:\n",
    "        return 1\n",
    "    return num + show(num -1)\n",
    "print(show(3))"
   ]
  },
  {
   "cell_type": "code",
   "execution_count": null,
   "id": "184cd87e-19a9-4200-9cc0-ceea49eeaf1d",
   "metadata": {},
   "outputs": [],
   "source": [
    "result = (lambda a,b,c: a+ b + c)\n",
    "print(result(1,2,3))"
   ]
  },
  {
   "cell_type": "code",
   "execution_count": null,
   "id": "6e158513-1ad7-4595-bf48-67d67f4034ab",
   "metadata": {},
   "outputs": [],
   "source": []
  }
 ],
 "metadata": {
  "kernelspec": {
   "display_name": "Python 3 (ipykernel)",
   "language": "python",
   "name": "python3"
  },
  "language_info": {
   "codemirror_mode": {
    "name": "ipython",
    "version": 3
   },
   "file_extension": ".py",
   "mimetype": "text/x-python",
   "name": "python",
   "nbconvert_exporter": "python",
   "pygments_lexer": "ipython3",
   "version": "3.12.11"
  }
 },
 "nbformat": 4,
 "nbformat_minor": 5
}
