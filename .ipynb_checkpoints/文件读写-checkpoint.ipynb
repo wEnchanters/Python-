{
 "cells": [
  {
   "cell_type": "code",
   "execution_count": 3,
   "id": "83e6ec09-3588-4aed-978f-69d5f498226f",
   "metadata": {},
   "outputs": [
    {
     "data": {
      "text/plain": [
       "3"
      ]
     },
     "execution_count": 3,
     "metadata": {},
     "output_type": "execute_result"
    }
   ],
   "source": [
    "# r：只读，文件不存在会崩溃，出现文件不存在异常\n",
    "# w：只写，会将原来的内容进行覆盖掉，如果文件不存在，会创建一个文件\n",
    "# a：追加写入\n",
    "# b：二进制 rb：二进制只读 wb：二进制只写\n",
    "f = open('./a.txt', 'w', encoding='utf-8')\n",
    "f.write('666')\n",
    "f.write('wtf')"
   ]
  }
 ],
 "metadata": {
  "kernelspec": {
   "display_name": "Python 3 (ipykernel)",
   "language": "python",
   "name": "python3"
  },
  "language_info": {
   "codemirror_mode": {
    "name": "ipython",
    "version": 3
   },
   "file_extension": ".py",
   "mimetype": "text/x-python",
   "name": "python",
   "nbconvert_exporter": "python",
   "pygments_lexer": "ipython3",
   "version": "3.12.11"
  }
 },
 "nbformat": 4,
 "nbformat_minor": 5
}
