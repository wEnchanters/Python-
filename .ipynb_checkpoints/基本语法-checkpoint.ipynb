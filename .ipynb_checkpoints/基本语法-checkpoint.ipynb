{
 "cells": [
  {
   "cell_type": "code",
   "execution_count": 3,
   "id": "7a78079c-9613-486c-8beb-d9f1b66e8988",
   "metadata": {},
   "outputs": [
    {
     "name": "stdout",
     "output_type": "stream",
     "text": [
      "h\n",
      "o\n",
      "l\n",
      "5\n"
     ]
    }
   ],
   "source": [
    "my_str = 'hello'\n",
    "print(my_str[0])\n",
    "print(my_str[-1])\n",
    "print(my_str[-2])\n",
    "print(len(my_str))"
   ]
  },
  {
   "cell_type": "code",
   "execution_count": 7,
   "id": "01b11b3b-7e2c-4863-8aab-a099d8383bec",
   "metadata": {},
   "outputs": [
    {
     "name": "stdout",
     "output_type": "stream",
     "text": [
      "ello\n",
      "ello\n",
      "hel\n"
     ]
    }
   ],
   "source": [
    "print(my_str[1:5])\n",
    "print(my_str[1:])\n",
    "print(my_str[0:3])"
   ]
  },
  {
   "cell_type": "code",
   "execution_count": 23,
   "id": "1855661f-fa68-4e44-aa48-0b5eab5affbc",
   "metadata": {},
   "outputs": [
    {
     "name": "stdout",
     "output_type": "stream",
     "text": [
      "HELLO WORLD\n",
      "hello world\n",
      "True\n",
      "True\n"
     ]
    }
   ],
   "source": [
    "my_str = 'hello World'\n",
    "my_str.find('w')\n",
    "print(my_str.upper())\n",
    "print(my_str.lower())\n",
    "print(my_str.startswith('hello'))\n",
    "print(my_str.lower().endswith('World'.lower()))"
   ]
  },
  {
   "cell_type": "code",
   "execution_count": 31,
   "id": "7039dda1-6f34-4e43-88d6-5acecdfc244c",
   "metadata": {},
   "outputs": [
    {
     "name": "stdout",
     "output_type": "stream",
     "text": [
      "False\n",
      "False\n",
      "False\n"
     ]
    }
   ],
   "source": [
    "lq = '123('\n",
    "print(lq.isdigit())\n",
    "print(lq.isalpha())\n",
    "print(lq.isalnum())"
   ]
  },
  {
   "cell_type": "code",
   "execution_count": 37,
   "id": "620674c9-9670-45fc-af33-5435db34a6cd",
   "metadata": {},
   "outputs": [
    {
     "name": "stdout",
     "output_type": "stream",
     "text": [
      "h\n",
      "e\n",
      "l\n",
      "l\n",
      "o\n",
      "0\n"
     ]
    }
   ],
   "source": [
    "my_str = 'hello'\n",
    "for value in my_str:\n",
    "    print(value)\n",
    "lq = 1\n",
    "for i in range(lq):\n",
    "    print(i)"
   ]
  },
  {
   "cell_type": "code",
   "execution_count": 41,
   "id": "99e13aa9-4de8-4842-b1d6-339ccc1efd6b",
   "metadata": {},
   "outputs": [
    {
     "name": "stdout",
     "output_type": "stream",
     "text": [
      "0 h\n",
      "1 e\n",
      "2 l\n",
      "3 l\n",
      "4 o\n"
     ]
    }
   ],
   "source": [
    "my_str = 'hello'\n",
    "for index,value in enumerate(my_str):\n",
    "    print(index, value)"
   ]
  },
  {
   "cell_type": "code",
   "execution_count": 71,
   "id": "d3ff2f43-115a-47c9-9431-79f4017bed74",
   "metadata": {},
   "outputs": [
    {
     "name": "stdout",
     "output_type": "stream",
     "text": [
      "True\n",
      "4\n",
      "True\n",
      "[1, 1.2, 'abc', True]\n",
      "[1, 4444]\n",
      "[3, 1, 1.2, 'abc', True]\n",
      "[3, 1, 1.2, 'abc', True, 7, 7]\n",
      "[1, 4444, 1, 4444]\n",
      "[3, 1, 1.2, 'abc', True, 7, 7]\n",
      "[3, 1, 1.2, 'abc', True, 7]\n",
      "[]\n",
      "0 1\n",
      "1 2\n",
      "2 3\n",
      "3 4\n",
      "4 5\n",
      "False\n",
      "[1, 2, 3, 1, 2]\n",
      "[1, 2, 3, 1, 2, [1, 2]]\n"
     ]
    }
   ],
   "source": [
    "my_list = [1, 1.2, 'abc', True]\n",
    "print(my_list[3])\n",
    "print(len(my_list))\n",
    "print(my_list[-1])\n",
    "nv = my_list[0:2]\n",
    "nv[1] = 4444\n",
    "print(my_list)\n",
    "print(nv)\n",
    "my_list.insert(0, 3)\n",
    "print(my_list)\n",
    "my_list.append(7)\n",
    "my_list.append(7)\n",
    "print(my_list)\n",
    "nv.extend(nv)\n",
    "print(nv)\n",
    "print(my_list)\n",
    "del my_list[len(my_list) - 1]\n",
    "print(my_list)\n",
    "my_list.clear()\n",
    "print(my_list)\n",
    "my_list = [1,2,3,4,5]\n",
    "for index,value in enumerate(my_list):\n",
    "    print(index, value)\n",
    "print(6 in my_list)  \n",
    "my_list = [1,2,3]\n",
    "my_list1 = [1,2]\n",
    "my_list.extend(my_list1)\n",
    "print(my_list)\n",
    "my_list.append(my_list1)\n",
    "print(my_list)\n"
   ]
  },
  {
   "cell_type": "code",
   "execution_count": 83,
   "id": "3fc6580f-2e62-41b2-9fea-6debc519eb1f",
   "metadata": {},
   "outputs": [
    {
     "name": "stdout",
     "output_type": "stream",
     "text": [
      "<class 'tuple'>\n",
      "0 1\n",
      "1 2\n",
      "2 abc\n",
      "3 True\n",
      "<class 'tuple'>\n"
     ]
    }
   ],
   "source": [
    "my_turple = (1, 2, 'abc', True)\n",
    "print(type(my_turple))\n",
    "for index, value in enumerate(my_turple):\n",
    "    print(index, value)\n",
    "turple = ([1,2],)\n",
    "print(type(turple))"
   ]
  }
 ],
 "metadata": {
  "kernelspec": {
   "display_name": "Python 3 (ipykernel)",
   "language": "python",
   "name": "python3"
  },
  "language_info": {
   "codemirror_mode": {
    "name": "ipython",
    "version": 3
   },
   "file_extension": ".py",
   "mimetype": "text/x-python",
   "name": "python",
   "nbconvert_exporter": "python",
   "pygments_lexer": "ipython3",
   "version": "3.12.11"
  }
 },
 "nbformat": 4,
 "nbformat_minor": 5
}
