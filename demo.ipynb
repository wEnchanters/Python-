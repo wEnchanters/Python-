{
 "cells": [
  {
   "cell_type": "code",
   "execution_count": 5,
   "id": "c5f55694-f9c5-4521-b879-fb1cc2bc6b32",
   "metadata": {},
   "outputs": [
    {
     "name": "stdout",
     "output_type": "stream",
     "text": [
      "hellow world\n"
     ]
    }
   ],
   "source": [
    "print('hellow world') "
   ]
  },
  {
   "cell_type": "code",
   "execution_count": 10,
   "id": "e8e3ef6d-7b7e-4d9b-93a5-360d8296af8b",
   "metadata": {
    "scrolled": true
   },
   "outputs": [],
   "source": [
    "name = 'lq'"
   ]
  },
  {
   "cell_type": "code",
   "execution_count": 12,
   "id": "140d69ea-a187-4cab-b87f-8b61f97d0106",
   "metadata": {},
   "outputs": [
    {
     "name": "stdout",
     "output_type": "stream",
     "text": [
      "<class 'str'>\n"
     ]
    }
   ],
   "source": [
    "print(type(name))"
   ]
  },
  {
   "cell_type": "code",
   "execution_count": 16,
   "id": "539f5b87-24e2-4416-ad69-510dc888a743",
   "metadata": {},
   "outputs": [
    {
     "name": "stdout",
     "output_type": "stream",
     "text": [
      "<class 'str'>\n"
     ]
    }
   ],
   "source": [
    "print(type(''))"
   ]
  },
  {
   "cell_type": "code",
   "execution_count": 17,
   "id": "a983f18c-4b4c-4b27-8d29-b193d49d2b4f",
   "metadata": {},
   "outputs": [],
   "source": [
    "import keyword"
   ]
  },
  {
   "cell_type": "code",
   "execution_count": 18,
   "id": "1047bc52-9a3a-4a22-9001-8478c10aedfa",
   "metadata": {},
   "outputs": [
    {
     "data": {
      "text/plain": [
       "['False',\n",
       " 'None',\n",
       " 'True',\n",
       " 'and',\n",
       " 'as',\n",
       " 'assert',\n",
       " 'async',\n",
       " 'await',\n",
       " 'break',\n",
       " 'class',\n",
       " 'continue',\n",
       " 'def',\n",
       " 'del',\n",
       " 'elif',\n",
       " 'else',\n",
       " 'except',\n",
       " 'finally',\n",
       " 'for',\n",
       " 'from',\n",
       " 'global',\n",
       " 'if',\n",
       " 'import',\n",
       " 'in',\n",
       " 'is',\n",
       " 'lambda',\n",
       " 'nonlocal',\n",
       " 'not',\n",
       " 'or',\n",
       " 'pass',\n",
       " 'raise',\n",
       " 'return',\n",
       " 'try',\n",
       " 'while',\n",
       " 'with',\n",
       " 'yield']"
      ]
     },
     "execution_count": 18,
     "metadata": {},
     "output_type": "execute_result"
    }
   ],
   "source": [
    "keyword.kwlist"
   ]
  },
  {
   "cell_type": "code",
   "execution_count": 21,
   "id": "cee933cb-9c1a-445b-9ad9-dcf6c215a99e",
   "metadata": {},
   "outputs": [
    {
     "name": "stdin",
     "output_type": "stream",
     "text": [
      "你是谁 w\n"
     ]
    }
   ],
   "source": [
    "password = input(\"你是谁\")"
   ]
  },
  {
   "cell_type": "code",
   "execution_count": 25,
   "id": "63ff4500-29f9-4624-8ef7-0937d10050b8",
   "metadata": {},
   "outputs": [
    {
     "name": "stdout",
     "output_type": "stream",
     "text": [
      "id: 1001, name: LQ\n"
     ]
    }
   ],
   "source": [
    "id, name, age = 1001, 'LQ', 54\n",
    "print('id: %d, name: %s' % (id, name))"
   ]
  },
  {
   "cell_type": "code",
   "execution_count": 35,
   "id": "1988c6e7-3025-4bf9-a83a-f9110f8272c4",
   "metadata": {},
   "outputs": [
    {
     "name": "stdin",
     "output_type": "stream",
     "text": [
      " \n"
     ]
    },
    {
     "name": "stdout",
     "output_type": "stream",
     "text": [
      "False\n",
      "keyi\n"
     ]
    }
   ],
   "source": [
    "nihao = input()\n",
    "print('nb' + nihao == 1)\n",
    "if nihao == 1 or nihao == 2:\n",
    "    print('NB')\n",
    "else:\n",
    "    print('keyi')"
   ]
  },
  {
   "cell_type": "code",
   "execution_count": 40,
   "id": "2443d41a-84f2-4e6f-97c6-d105b30201de",
   "metadata": {},
   "outputs": [
    {
     "name": "stdout",
     "output_type": "stream",
     "text": [
      "lq\n",
      "lq\n",
      "lq\n",
      "lq\n",
      "lq\n",
      "lq222\n"
     ]
    }
   ],
   "source": [
    "i = 0\n",
    "while i < 5:\n",
    "    print('lq')\n",
    "    i+=1\n",
    "print('lq222')"
   ]
  },
  {
   "cell_type": "code",
   "execution_count": 1,
   "id": "13e6cbf6-88d0-4435-b247-7fd109b138ef",
   "metadata": {},
   "outputs": [
    {
     "name": "stdout",
     "output_type": "stream",
     "text": [
      "10\n"
     ]
    }
   ],
   "source": [
    "sum = 0\n",
    "for i in [1,2,3,4]:\n",
    "    sum+=i\n",
    "print(sum)"
   ]
  },
  {
   "cell_type": "code",
   "execution_count": 2,
   "id": "3264267d-f4f9-4e60-af00-13168765686f",
   "metadata": {},
   "outputs": [
    {
     "name": "stdout",
     "output_type": "stream",
     "text": [
      "0\n",
      "1\n",
      "2\n",
      "3\n",
      "4\n"
     ]
    }
   ],
   "source": [
    "for i in range(5):\n",
    "    print(i)"
   ]
  },
  {
   "cell_type": "code",
   "execution_count": 3,
   "id": "0d934338-085e-4699-9776-d2b5a35afe38",
   "metadata": {},
   "outputs": [
    {
     "name": "stdout",
     "output_type": "stream",
     "text": [
      "1\n",
      "2\n",
      "3\n",
      "4\n"
     ]
    }
   ],
   "source": [
    "for i in [1,2,3,4,5]:\n",
    "    print(i)\n",
    "    if(i == 4):\n",
    "        break"
   ]
  },
  {
   "cell_type": "code",
   "execution_count": 4,
   "id": "3a09ce6d-656e-43bf-a330-cd2023c92c71",
   "metadata": {},
   "outputs": [
    {
     "name": "stdout",
     "output_type": "stream",
     "text": [
      "0\n",
      "0\n",
      "1\n",
      "2\n",
      "2\n",
      "3\n",
      "4\n",
      "4\n"
     ]
    }
   ],
   "source": [
    "i = 0\n",
    "while i < 5:\n",
    "    if i % 2 == 0:\n",
    "        print(i)\n",
    "    if i == 10:   \n",
    "        break\n",
    "    i += 1"
   ]
  },
  {
   "cell_type": "code",
   "execution_count": 6,
   "id": "456617d0-a94e-425f-8d01-b4b65a2b177e",
   "metadata": {},
   "outputs": [
    {
     "name": "stdout",
     "output_type": "stream",
     "text": [
      "1\n",
      "3\n",
      "5\n",
      "7\n",
      "9\n"
     ]
    }
   ],
   "source": [
    "for i in range(10):\n",
    "    if i % 2 == 0:\n",
    "        continue\n",
    "    print(i)"
   ]
  }
 ],
 "metadata": {
  "kernelspec": {
   "display_name": "Python 3 (ipykernel)",
   "language": "python",
   "name": "python3"
  },
  "language_info": {
   "codemirror_mode": {
    "name": "ipython",
    "version": 3
   },
   "file_extension": ".py",
   "mimetype": "text/x-python",
   "name": "python",
   "nbconvert_exporter": "python",
   "pygments_lexer": "ipython3",
   "version": "3.12.11"
  }
 },
 "nbformat": 4,
 "nbformat_minor": 5
}
